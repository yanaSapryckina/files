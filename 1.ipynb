{
 "cells": [
  {
   "cell_type": "code",
   "execution_count": 1,
   "metadata": {},
   "outputs": [],
   "source": [
    "import json\n",
    "\n",
    "purchases = {}\n",
    "\n",
    "with open ('purchase_log.txt','r', encoding=\"utf-8\" ) as f:\n",
    "    for line in f:\n",
    "        purchases[json.loads(line)['user_id']] = json.loads(line)['category']\n"
   ]
  },
  {
   "cell_type": "code",
   "execution_count": null,
   "metadata": {},
   "outputs": [],
   "source": [
    "with open ('visit_log.csv','r') as f1:\n",
    "    with open ('funnel.csv','w') as fw:\n",
    "        for k,v in purchases.items():\n",
    "            f1.seek(0)\n",
    "            for line1 in f1:\n",
    "                if k in line1.strip().split(','):\n",
    "                    fw.write(line1.strip()+','+v+'\\n')"
   ]
  },
  {
   "cell_type": "code",
   "execution_count": null,
   "metadata": {},
   "outputs": [],
   "source": []
  }
 ],
 "metadata": {
  "kernelspec": {
   "display_name": "Python 3",
   "language": "python",
   "name": "python3"
  },
  "language_info": {
   "codemirror_mode": {
    "name": "ipython",
    "version": 3
   },
   "file_extension": ".py",
   "mimetype": "text/x-python",
   "name": "python",
   "nbconvert_exporter": "python",
   "pygments_lexer": "ipython3",
   "version": "3.8.3"
  }
 },
 "nbformat": 4,
 "nbformat_minor": 4
}
